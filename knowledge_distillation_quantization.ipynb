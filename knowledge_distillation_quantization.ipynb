{
  "nbformat": 4,
  "nbformat_minor": 0,
  "metadata": {
    "colab": {
      "provenance": [],
      "gpuType": "T4"
    },
    "kernelspec": {
      "name": "python3",
      "display_name": "Python 3"
    },
    "language_info": {
      "name": "python"
    },
    "accelerator": "GPU",
    "widgets": {
      "application/vnd.jupyter.widget-state+json": {
        "85fffbe3907d442b9c9562b86599e26a": {
          "model_module": "@jupyter-widgets/controls",
          "model_name": "HBoxModel",
          "model_module_version": "1.5.0",
          "state": {
            "_dom_classes": [],
            "_model_module": "@jupyter-widgets/controls",
            "_model_module_version": "1.5.0",
            "_model_name": "HBoxModel",
            "_view_count": null,
            "_view_module": "@jupyter-widgets/controls",
            "_view_module_version": "1.5.0",
            "_view_name": "HBoxView",
            "box_style": "",
            "children": [
              "IPY_MODEL_9ae01e69df884acd87eccbfb00038213",
              "IPY_MODEL_1dec94b764a14a52926ee546175530a5",
              "IPY_MODEL_cf90a4a1c9a542a8bcd61c225a228e7f"
            ],
            "layout": "IPY_MODEL_e59678882b824bcdabd85b95f74b77c0"
          }
        },
        "9ae01e69df884acd87eccbfb00038213": {
          "model_module": "@jupyter-widgets/controls",
          "model_name": "HTMLModel",
          "model_module_version": "1.5.0",
          "state": {
            "_dom_classes": [],
            "_model_module": "@jupyter-widgets/controls",
            "_model_module_version": "1.5.0",
            "_model_name": "HTMLModel",
            "_view_count": null,
            "_view_module": "@jupyter-widgets/controls",
            "_view_module_version": "1.5.0",
            "_view_name": "HTMLView",
            "description": "",
            "description_tooltip": null,
            "layout": "IPY_MODEL_dfd1f957092d490d806bef0385bf3e2d",
            "placeholder": "​",
            "style": "IPY_MODEL_969481c8ced24290bf227ee1f02881fb",
            "value": "Map: 100%"
          }
        },
        "1dec94b764a14a52926ee546175530a5": {
          "model_module": "@jupyter-widgets/controls",
          "model_name": "FloatProgressModel",
          "model_module_version": "1.5.0",
          "state": {
            "_dom_classes": [],
            "_model_module": "@jupyter-widgets/controls",
            "_model_module_version": "1.5.0",
            "_model_name": "FloatProgressModel",
            "_view_count": null,
            "_view_module": "@jupyter-widgets/controls",
            "_view_module_version": "1.5.0",
            "_view_name": "ProgressView",
            "bar_style": "success",
            "description": "",
            "description_tooltip": null,
            "layout": "IPY_MODEL_e97bc6c022104e98b451be9b8d7486f0",
            "max": 2100,
            "min": 0,
            "orientation": "horizontal",
            "style": "IPY_MODEL_d1fe9c44922f42c7abe4b8b1cef835be",
            "value": 2100
          }
        },
        "cf90a4a1c9a542a8bcd61c225a228e7f": {
          "model_module": "@jupyter-widgets/controls",
          "model_name": "HTMLModel",
          "model_module_version": "1.5.0",
          "state": {
            "_dom_classes": [],
            "_model_module": "@jupyter-widgets/controls",
            "_model_module_version": "1.5.0",
            "_model_name": "HTMLModel",
            "_view_count": null,
            "_view_module": "@jupyter-widgets/controls",
            "_view_module_version": "1.5.0",
            "_view_name": "HTMLView",
            "description": "",
            "description_tooltip": null,
            "layout": "IPY_MODEL_732f6bd135104dc4915c71278c8ae248",
            "placeholder": "​",
            "style": "IPY_MODEL_408e70d564574451bcca058ac0458d00",
            "value": " 2100/2100 [00:01&lt;00:00, 1766.08 examples/s]"
          }
        },
        "e59678882b824bcdabd85b95f74b77c0": {
          "model_module": "@jupyter-widgets/base",
          "model_name": "LayoutModel",
          "model_module_version": "1.2.0",
          "state": {
            "_model_module": "@jupyter-widgets/base",
            "_model_module_version": "1.2.0",
            "_model_name": "LayoutModel",
            "_view_count": null,
            "_view_module": "@jupyter-widgets/base",
            "_view_module_version": "1.2.0",
            "_view_name": "LayoutView",
            "align_content": null,
            "align_items": null,
            "align_self": null,
            "border": null,
            "bottom": null,
            "display": null,
            "flex": null,
            "flex_flow": null,
            "grid_area": null,
            "grid_auto_columns": null,
            "grid_auto_flow": null,
            "grid_auto_rows": null,
            "grid_column": null,
            "grid_gap": null,
            "grid_row": null,
            "grid_template_areas": null,
            "grid_template_columns": null,
            "grid_template_rows": null,
            "height": null,
            "justify_content": null,
            "justify_items": null,
            "left": null,
            "margin": null,
            "max_height": null,
            "max_width": null,
            "min_height": null,
            "min_width": null,
            "object_fit": null,
            "object_position": null,
            "order": null,
            "overflow": null,
            "overflow_x": null,
            "overflow_y": null,
            "padding": null,
            "right": null,
            "top": null,
            "visibility": null,
            "width": null
          }
        },
        "dfd1f957092d490d806bef0385bf3e2d": {
          "model_module": "@jupyter-widgets/base",
          "model_name": "LayoutModel",
          "model_module_version": "1.2.0",
          "state": {
            "_model_module": "@jupyter-widgets/base",
            "_model_module_version": "1.2.0",
            "_model_name": "LayoutModel",
            "_view_count": null,
            "_view_module": "@jupyter-widgets/base",
            "_view_module_version": "1.2.0",
            "_view_name": "LayoutView",
            "align_content": null,
            "align_items": null,
            "align_self": null,
            "border": null,
            "bottom": null,
            "display": null,
            "flex": null,
            "flex_flow": null,
            "grid_area": null,
            "grid_auto_columns": null,
            "grid_auto_flow": null,
            "grid_auto_rows": null,
            "grid_column": null,
            "grid_gap": null,
            "grid_row": null,
            "grid_template_areas": null,
            "grid_template_columns": null,
            "grid_template_rows": null,
            "height": null,
            "justify_content": null,
            "justify_items": null,
            "left": null,
            "margin": null,
            "max_height": null,
            "max_width": null,
            "min_height": null,
            "min_width": null,
            "object_fit": null,
            "object_position": null,
            "order": null,
            "overflow": null,
            "overflow_x": null,
            "overflow_y": null,
            "padding": null,
            "right": null,
            "top": null,
            "visibility": null,
            "width": null
          }
        },
        "969481c8ced24290bf227ee1f02881fb": {
          "model_module": "@jupyter-widgets/controls",
          "model_name": "DescriptionStyleModel",
          "model_module_version": "1.5.0",
          "state": {
            "_model_module": "@jupyter-widgets/controls",
            "_model_module_version": "1.5.0",
            "_model_name": "DescriptionStyleModel",
            "_view_count": null,
            "_view_module": "@jupyter-widgets/base",
            "_view_module_version": "1.2.0",
            "_view_name": "StyleView",
            "description_width": ""
          }
        },
        "e97bc6c022104e98b451be9b8d7486f0": {
          "model_module": "@jupyter-widgets/base",
          "model_name": "LayoutModel",
          "model_module_version": "1.2.0",
          "state": {
            "_model_module": "@jupyter-widgets/base",
            "_model_module_version": "1.2.0",
            "_model_name": "LayoutModel",
            "_view_count": null,
            "_view_module": "@jupyter-widgets/base",
            "_view_module_version": "1.2.0",
            "_view_name": "LayoutView",
            "align_content": null,
            "align_items": null,
            "align_self": null,
            "border": null,
            "bottom": null,
            "display": null,
            "flex": null,
            "flex_flow": null,
            "grid_area": null,
            "grid_auto_columns": null,
            "grid_auto_flow": null,
            "grid_auto_rows": null,
            "grid_column": null,
            "grid_gap": null,
            "grid_row": null,
            "grid_template_areas": null,
            "grid_template_columns": null,
            "grid_template_rows": null,
            "height": null,
            "justify_content": null,
            "justify_items": null,
            "left": null,
            "margin": null,
            "max_height": null,
            "max_width": null,
            "min_height": null,
            "min_width": null,
            "object_fit": null,
            "object_position": null,
            "order": null,
            "overflow": null,
            "overflow_x": null,
            "overflow_y": null,
            "padding": null,
            "right": null,
            "top": null,
            "visibility": null,
            "width": null
          }
        },
        "d1fe9c44922f42c7abe4b8b1cef835be": {
          "model_module": "@jupyter-widgets/controls",
          "model_name": "ProgressStyleModel",
          "model_module_version": "1.5.0",
          "state": {
            "_model_module": "@jupyter-widgets/controls",
            "_model_module_version": "1.5.0",
            "_model_name": "ProgressStyleModel",
            "_view_count": null,
            "_view_module": "@jupyter-widgets/base",
            "_view_module_version": "1.2.0",
            "_view_name": "StyleView",
            "bar_color": null,
            "description_width": ""
          }
        },
        "732f6bd135104dc4915c71278c8ae248": {
          "model_module": "@jupyter-widgets/base",
          "model_name": "LayoutModel",
          "model_module_version": "1.2.0",
          "state": {
            "_model_module": "@jupyter-widgets/base",
            "_model_module_version": "1.2.0",
            "_model_name": "LayoutModel",
            "_view_count": null,
            "_view_module": "@jupyter-widgets/base",
            "_view_module_version": "1.2.0",
            "_view_name": "LayoutView",
            "align_content": null,
            "align_items": null,
            "align_self": null,
            "border": null,
            "bottom": null,
            "display": null,
            "flex": null,
            "flex_flow": null,
            "grid_area": null,
            "grid_auto_columns": null,
            "grid_auto_flow": null,
            "grid_auto_rows": null,
            "grid_column": null,
            "grid_gap": null,
            "grid_row": null,
            "grid_template_areas": null,
            "grid_template_columns": null,
            "grid_template_rows": null,
            "height": null,
            "justify_content": null,
            "justify_items": null,
            "left": null,
            "margin": null,
            "max_height": null,
            "max_width": null,
            "min_height": null,
            "min_width": null,
            "object_fit": null,
            "object_position": null,
            "order": null,
            "overflow": null,
            "overflow_x": null,
            "overflow_y": null,
            "padding": null,
            "right": null,
            "top": null,
            "visibility": null,
            "width": null
          }
        },
        "408e70d564574451bcca058ac0458d00": {
          "model_module": "@jupyter-widgets/controls",
          "model_name": "DescriptionStyleModel",
          "model_module_version": "1.5.0",
          "state": {
            "_model_module": "@jupyter-widgets/controls",
            "_model_module_version": "1.5.0",
            "_model_name": "DescriptionStyleModel",
            "_view_count": null,
            "_view_module": "@jupyter-widgets/base",
            "_view_module_version": "1.2.0",
            "_view_name": "StyleView",
            "description_width": ""
          }
        },
        "300047d9c7a14a479ca3bf835824214b": {
          "model_module": "@jupyter-widgets/controls",
          "model_name": "HBoxModel",
          "model_module_version": "1.5.0",
          "state": {
            "_dom_classes": [],
            "_model_module": "@jupyter-widgets/controls",
            "_model_module_version": "1.5.0",
            "_model_name": "HBoxModel",
            "_view_count": null,
            "_view_module": "@jupyter-widgets/controls",
            "_view_module_version": "1.5.0",
            "_view_name": "HBoxView",
            "box_style": "",
            "children": [
              "IPY_MODEL_7aa5fe4d467c4f11922b71c080e03e26",
              "IPY_MODEL_1cda9ecd480542fda3d6e400a6d5d8d9",
              "IPY_MODEL_a6a6e5ed35184c89be230db83830da46"
            ],
            "layout": "IPY_MODEL_f6bb1c453a4b400989d4cca1d5761624"
          }
        },
        "7aa5fe4d467c4f11922b71c080e03e26": {
          "model_module": "@jupyter-widgets/controls",
          "model_name": "HTMLModel",
          "model_module_version": "1.5.0",
          "state": {
            "_dom_classes": [],
            "_model_module": "@jupyter-widgets/controls",
            "_model_module_version": "1.5.0",
            "_model_name": "HTMLModel",
            "_view_count": null,
            "_view_module": "@jupyter-widgets/controls",
            "_view_module_version": "1.5.0",
            "_view_name": "HTMLView",
            "description": "",
            "description_tooltip": null,
            "layout": "IPY_MODEL_70dd97aa33b34fe5bbd6ca181059d433",
            "placeholder": "​",
            "style": "IPY_MODEL_3a567c42f2f145e89b3fe8776bfffb54",
            "value": "Map: 100%"
          }
        },
        "1cda9ecd480542fda3d6e400a6d5d8d9": {
          "model_module": "@jupyter-widgets/controls",
          "model_name": "FloatProgressModel",
          "model_module_version": "1.5.0",
          "state": {
            "_dom_classes": [],
            "_model_module": "@jupyter-widgets/controls",
            "_model_module_version": "1.5.0",
            "_model_name": "FloatProgressModel",
            "_view_count": null,
            "_view_module": "@jupyter-widgets/controls",
            "_view_module_version": "1.5.0",
            "_view_name": "ProgressView",
            "bar_style": "success",
            "description": "",
            "description_tooltip": null,
            "layout": "IPY_MODEL_3ee987000b7842de947e25245fb2f76e",
            "max": 450,
            "min": 0,
            "orientation": "horizontal",
            "style": "IPY_MODEL_f29aefb457ac4110ad82726a10c16a33",
            "value": 450
          }
        },
        "a6a6e5ed35184c89be230db83830da46": {
          "model_module": "@jupyter-widgets/controls",
          "model_name": "HTMLModel",
          "model_module_version": "1.5.0",
          "state": {
            "_dom_classes": [],
            "_model_module": "@jupyter-widgets/controls",
            "_model_module_version": "1.5.0",
            "_model_name": "HTMLModel",
            "_view_count": null,
            "_view_module": "@jupyter-widgets/controls",
            "_view_module_version": "1.5.0",
            "_view_name": "HTMLView",
            "description": "",
            "description_tooltip": null,
            "layout": "IPY_MODEL_5853713a698f412d9718e870db6425e3",
            "placeholder": "​",
            "style": "IPY_MODEL_ab3c807535d148b0a4b206c5fa8af8fc",
            "value": " 450/450 [00:00&lt;00:00, 1895.21 examples/s]"
          }
        },
        "f6bb1c453a4b400989d4cca1d5761624": {
          "model_module": "@jupyter-widgets/base",
          "model_name": "LayoutModel",
          "model_module_version": "1.2.0",
          "state": {
            "_model_module": "@jupyter-widgets/base",
            "_model_module_version": "1.2.0",
            "_model_name": "LayoutModel",
            "_view_count": null,
            "_view_module": "@jupyter-widgets/base",
            "_view_module_version": "1.2.0",
            "_view_name": "LayoutView",
            "align_content": null,
            "align_items": null,
            "align_self": null,
            "border": null,
            "bottom": null,
            "display": null,
            "flex": null,
            "flex_flow": null,
            "grid_area": null,
            "grid_auto_columns": null,
            "grid_auto_flow": null,
            "grid_auto_rows": null,
            "grid_column": null,
            "grid_gap": null,
            "grid_row": null,
            "grid_template_areas": null,
            "grid_template_columns": null,
            "grid_template_rows": null,
            "height": null,
            "justify_content": null,
            "justify_items": null,
            "left": null,
            "margin": null,
            "max_height": null,
            "max_width": null,
            "min_height": null,
            "min_width": null,
            "object_fit": null,
            "object_position": null,
            "order": null,
            "overflow": null,
            "overflow_x": null,
            "overflow_y": null,
            "padding": null,
            "right": null,
            "top": null,
            "visibility": null,
            "width": null
          }
        },
        "70dd97aa33b34fe5bbd6ca181059d433": {
          "model_module": "@jupyter-widgets/base",
          "model_name": "LayoutModel",
          "model_module_version": "1.2.0",
          "state": {
            "_model_module": "@jupyter-widgets/base",
            "_model_module_version": "1.2.0",
            "_model_name": "LayoutModel",
            "_view_count": null,
            "_view_module": "@jupyter-widgets/base",
            "_view_module_version": "1.2.0",
            "_view_name": "LayoutView",
            "align_content": null,
            "align_items": null,
            "align_self": null,
            "border": null,
            "bottom": null,
            "display": null,
            "flex": null,
            "flex_flow": null,
            "grid_area": null,
            "grid_auto_columns": null,
            "grid_auto_flow": null,
            "grid_auto_rows": null,
            "grid_column": null,
            "grid_gap": null,
            "grid_row": null,
            "grid_template_areas": null,
            "grid_template_columns": null,
            "grid_template_rows": null,
            "height": null,
            "justify_content": null,
            "justify_items": null,
            "left": null,
            "margin": null,
            "max_height": null,
            "max_width": null,
            "min_height": null,
            "min_width": null,
            "object_fit": null,
            "object_position": null,
            "order": null,
            "overflow": null,
            "overflow_x": null,
            "overflow_y": null,
            "padding": null,
            "right": null,
            "top": null,
            "visibility": null,
            "width": null
          }
        },
        "3a567c42f2f145e89b3fe8776bfffb54": {
          "model_module": "@jupyter-widgets/controls",
          "model_name": "DescriptionStyleModel",
          "model_module_version": "1.5.0",
          "state": {
            "_model_module": "@jupyter-widgets/controls",
            "_model_module_version": "1.5.0",
            "_model_name": "DescriptionStyleModel",
            "_view_count": null,
            "_view_module": "@jupyter-widgets/base",
            "_view_module_version": "1.2.0",
            "_view_name": "StyleView",
            "description_width": ""
          }
        },
        "3ee987000b7842de947e25245fb2f76e": {
          "model_module": "@jupyter-widgets/base",
          "model_name": "LayoutModel",
          "model_module_version": "1.2.0",
          "state": {
            "_model_module": "@jupyter-widgets/base",
            "_model_module_version": "1.2.0",
            "_model_name": "LayoutModel",
            "_view_count": null,
            "_view_module": "@jupyter-widgets/base",
            "_view_module_version": "1.2.0",
            "_view_name": "LayoutView",
            "align_content": null,
            "align_items": null,
            "align_self": null,
            "border": null,
            "bottom": null,
            "display": null,
            "flex": null,
            "flex_flow": null,
            "grid_area": null,
            "grid_auto_columns": null,
            "grid_auto_flow": null,
            "grid_auto_rows": null,
            "grid_column": null,
            "grid_gap": null,
            "grid_row": null,
            "grid_template_areas": null,
            "grid_template_columns": null,
            "grid_template_rows": null,
            "height": null,
            "justify_content": null,
            "justify_items": null,
            "left": null,
            "margin": null,
            "max_height": null,
            "max_width": null,
            "min_height": null,
            "min_width": null,
            "object_fit": null,
            "object_position": null,
            "order": null,
            "overflow": null,
            "overflow_x": null,
            "overflow_y": null,
            "padding": null,
            "right": null,
            "top": null,
            "visibility": null,
            "width": null
          }
        },
        "f29aefb457ac4110ad82726a10c16a33": {
          "model_module": "@jupyter-widgets/controls",
          "model_name": "ProgressStyleModel",
          "model_module_version": "1.5.0",
          "state": {
            "_model_module": "@jupyter-widgets/controls",
            "_model_module_version": "1.5.0",
            "_model_name": "ProgressStyleModel",
            "_view_count": null,
            "_view_module": "@jupyter-widgets/base",
            "_view_module_version": "1.2.0",
            "_view_name": "StyleView",
            "bar_color": null,
            "description_width": ""
          }
        },
        "5853713a698f412d9718e870db6425e3": {
          "model_module": "@jupyter-widgets/base",
          "model_name": "LayoutModel",
          "model_module_version": "1.2.0",
          "state": {
            "_model_module": "@jupyter-widgets/base",
            "_model_module_version": "1.2.0",
            "_model_name": "LayoutModel",
            "_view_count": null,
            "_view_module": "@jupyter-widgets/base",
            "_view_module_version": "1.2.0",
            "_view_name": "LayoutView",
            "align_content": null,
            "align_items": null,
            "align_self": null,
            "border": null,
            "bottom": null,
            "display": null,
            "flex": null,
            "flex_flow": null,
            "grid_area": null,
            "grid_auto_columns": null,
            "grid_auto_flow": null,
            "grid_auto_rows": null,
            "grid_column": null,
            "grid_gap": null,
            "grid_row": null,
            "grid_template_areas": null,
            "grid_template_columns": null,
            "grid_template_rows": null,
            "height": null,
            "justify_content": null,
            "justify_items": null,
            "left": null,
            "margin": null,
            "max_height": null,
            "max_width": null,
            "min_height": null,
            "min_width": null,
            "object_fit": null,
            "object_position": null,
            "order": null,
            "overflow": null,
            "overflow_x": null,
            "overflow_y": null,
            "padding": null,
            "right": null,
            "top": null,
            "visibility": null,
            "width": null
          }
        },
        "ab3c807535d148b0a4b206c5fa8af8fc": {
          "model_module": "@jupyter-widgets/controls",
          "model_name": "DescriptionStyleModel",
          "model_module_version": "1.5.0",
          "state": {
            "_model_module": "@jupyter-widgets/controls",
            "_model_module_version": "1.5.0",
            "_model_name": "DescriptionStyleModel",
            "_view_count": null,
            "_view_module": "@jupyter-widgets/base",
            "_view_module_version": "1.2.0",
            "_view_name": "StyleView",
            "description_width": ""
          }
        },
        "4d70bed9d8c243e8ab325c23e608c5f7": {
          "model_module": "@jupyter-widgets/controls",
          "model_name": "HBoxModel",
          "model_module_version": "1.5.0",
          "state": {
            "_dom_classes": [],
            "_model_module": "@jupyter-widgets/controls",
            "_model_module_version": "1.5.0",
            "_model_name": "HBoxModel",
            "_view_count": null,
            "_view_module": "@jupyter-widgets/controls",
            "_view_module_version": "1.5.0",
            "_view_name": "HBoxView",
            "box_style": "",
            "children": [
              "IPY_MODEL_ea23cbfb162c41b28e5c777f6c7a618b",
              "IPY_MODEL_df6693cfe09e4997902e2b802edddd95",
              "IPY_MODEL_a4d78095c4e24691991bb7e3d02b7dcc"
            ],
            "layout": "IPY_MODEL_2cf5396243b04b099587d7959d8b78e9"
          }
        },
        "ea23cbfb162c41b28e5c777f6c7a618b": {
          "model_module": "@jupyter-widgets/controls",
          "model_name": "HTMLModel",
          "model_module_version": "1.5.0",
          "state": {
            "_dom_classes": [],
            "_model_module": "@jupyter-widgets/controls",
            "_model_module_version": "1.5.0",
            "_model_name": "HTMLModel",
            "_view_count": null,
            "_view_module": "@jupyter-widgets/controls",
            "_view_module_version": "1.5.0",
            "_view_name": "HTMLView",
            "description": "",
            "description_tooltip": null,
            "layout": "IPY_MODEL_2889b09181904c0a9b16b89635e30385",
            "placeholder": "​",
            "style": "IPY_MODEL_9a7d6259c2a0469594582d1b0e7c36bb",
            "value": "Map: 100%"
          }
        },
        "df6693cfe09e4997902e2b802edddd95": {
          "model_module": "@jupyter-widgets/controls",
          "model_name": "FloatProgressModel",
          "model_module_version": "1.5.0",
          "state": {
            "_dom_classes": [],
            "_model_module": "@jupyter-widgets/controls",
            "_model_module_version": "1.5.0",
            "_model_name": "FloatProgressModel",
            "_view_count": null,
            "_view_module": "@jupyter-widgets/controls",
            "_view_module_version": "1.5.0",
            "_view_name": "ProgressView",
            "bar_style": "success",
            "description": "",
            "description_tooltip": null,
            "layout": "IPY_MODEL_95391abb0eca4fd6a424a1c1ec8ed3fa",
            "max": 450,
            "min": 0,
            "orientation": "horizontal",
            "style": "IPY_MODEL_6a6dbc11e0fa493e9707c14f158b95a0",
            "value": 450
          }
        },
        "a4d78095c4e24691991bb7e3d02b7dcc": {
          "model_module": "@jupyter-widgets/controls",
          "model_name": "HTMLModel",
          "model_module_version": "1.5.0",
          "state": {
            "_dom_classes": [],
            "_model_module": "@jupyter-widgets/controls",
            "_model_module_version": "1.5.0",
            "_model_name": "HTMLModel",
            "_view_count": null,
            "_view_module": "@jupyter-widgets/controls",
            "_view_module_version": "1.5.0",
            "_view_name": "HTMLView",
            "description": "",
            "description_tooltip": null,
            "layout": "IPY_MODEL_d4a3aa983d014135822eb83dbc585a9c",
            "placeholder": "​",
            "style": "IPY_MODEL_eced9a0505c64696bfa33a8a243c257b",
            "value": " 450/450 [00:00&lt;00:00, 2777.59 examples/s]"
          }
        },
        "2cf5396243b04b099587d7959d8b78e9": {
          "model_module": "@jupyter-widgets/base",
          "model_name": "LayoutModel",
          "model_module_version": "1.2.0",
          "state": {
            "_model_module": "@jupyter-widgets/base",
            "_model_module_version": "1.2.0",
            "_model_name": "LayoutModel",
            "_view_count": null,
            "_view_module": "@jupyter-widgets/base",
            "_view_module_version": "1.2.0",
            "_view_name": "LayoutView",
            "align_content": null,
            "align_items": null,
            "align_self": null,
            "border": null,
            "bottom": null,
            "display": null,
            "flex": null,
            "flex_flow": null,
            "grid_area": null,
            "grid_auto_columns": null,
            "grid_auto_flow": null,
            "grid_auto_rows": null,
            "grid_column": null,
            "grid_gap": null,
            "grid_row": null,
            "grid_template_areas": null,
            "grid_template_columns": null,
            "grid_template_rows": null,
            "height": null,
            "justify_content": null,
            "justify_items": null,
            "left": null,
            "margin": null,
            "max_height": null,
            "max_width": null,
            "min_height": null,
            "min_width": null,
            "object_fit": null,
            "object_position": null,
            "order": null,
            "overflow": null,
            "overflow_x": null,
            "overflow_y": null,
            "padding": null,
            "right": null,
            "top": null,
            "visibility": null,
            "width": null
          }
        },
        "2889b09181904c0a9b16b89635e30385": {
          "model_module": "@jupyter-widgets/base",
          "model_name": "LayoutModel",
          "model_module_version": "1.2.0",
          "state": {
            "_model_module": "@jupyter-widgets/base",
            "_model_module_version": "1.2.0",
            "_model_name": "LayoutModel",
            "_view_count": null,
            "_view_module": "@jupyter-widgets/base",
            "_view_module_version": "1.2.0",
            "_view_name": "LayoutView",
            "align_content": null,
            "align_items": null,
            "align_self": null,
            "border": null,
            "bottom": null,
            "display": null,
            "flex": null,
            "flex_flow": null,
            "grid_area": null,
            "grid_auto_columns": null,
            "grid_auto_flow": null,
            "grid_auto_rows": null,
            "grid_column": null,
            "grid_gap": null,
            "grid_row": null,
            "grid_template_areas": null,
            "grid_template_columns": null,
            "grid_template_rows": null,
            "height": null,
            "justify_content": null,
            "justify_items": null,
            "left": null,
            "margin": null,
            "max_height": null,
            "max_width": null,
            "min_height": null,
            "min_width": null,
            "object_fit": null,
            "object_position": null,
            "order": null,
            "overflow": null,
            "overflow_x": null,
            "overflow_y": null,
            "padding": null,
            "right": null,
            "top": null,
            "visibility": null,
            "width": null
          }
        },
        "9a7d6259c2a0469594582d1b0e7c36bb": {
          "model_module": "@jupyter-widgets/controls",
          "model_name": "DescriptionStyleModel",
          "model_module_version": "1.5.0",
          "state": {
            "_model_module": "@jupyter-widgets/controls",
            "_model_module_version": "1.5.0",
            "_model_name": "DescriptionStyleModel",
            "_view_count": null,
            "_view_module": "@jupyter-widgets/base",
            "_view_module_version": "1.2.0",
            "_view_name": "StyleView",
            "description_width": ""
          }
        },
        "95391abb0eca4fd6a424a1c1ec8ed3fa": {
          "model_module": "@jupyter-widgets/base",
          "model_name": "LayoutModel",
          "model_module_version": "1.2.0",
          "state": {
            "_model_module": "@jupyter-widgets/base",
            "_model_module_version": "1.2.0",
            "_model_name": "LayoutModel",
            "_view_count": null,
            "_view_module": "@jupyter-widgets/base",
            "_view_module_version": "1.2.0",
            "_view_name": "LayoutView",
            "align_content": null,
            "align_items": null,
            "align_self": null,
            "border": null,
            "bottom": null,
            "display": null,
            "flex": null,
            "flex_flow": null,
            "grid_area": null,
            "grid_auto_columns": null,
            "grid_auto_flow": null,
            "grid_auto_rows": null,
            "grid_column": null,
            "grid_gap": null,
            "grid_row": null,
            "grid_template_areas": null,
            "grid_template_columns": null,
            "grid_template_rows": null,
            "height": null,
            "justify_content": null,
            "justify_items": null,
            "left": null,
            "margin": null,
            "max_height": null,
            "max_width": null,
            "min_height": null,
            "min_width": null,
            "object_fit": null,
            "object_position": null,
            "order": null,
            "overflow": null,
            "overflow_x": null,
            "overflow_y": null,
            "padding": null,
            "right": null,
            "top": null,
            "visibility": null,
            "width": null
          }
        },
        "6a6dbc11e0fa493e9707c14f158b95a0": {
          "model_module": "@jupyter-widgets/controls",
          "model_name": "ProgressStyleModel",
          "model_module_version": "1.5.0",
          "state": {
            "_model_module": "@jupyter-widgets/controls",
            "_model_module_version": "1.5.0",
            "_model_name": "ProgressStyleModel",
            "_view_count": null,
            "_view_module": "@jupyter-widgets/base",
            "_view_module_version": "1.2.0",
            "_view_name": "StyleView",
            "bar_color": null,
            "description_width": ""
          }
        },
        "d4a3aa983d014135822eb83dbc585a9c": {
          "model_module": "@jupyter-widgets/base",
          "model_name": "LayoutModel",
          "model_module_version": "1.2.0",
          "state": {
            "_model_module": "@jupyter-widgets/base",
            "_model_module_version": "1.2.0",
            "_model_name": "LayoutModel",
            "_view_count": null,
            "_view_module": "@jupyter-widgets/base",
            "_view_module_version": "1.2.0",
            "_view_name": "LayoutView",
            "align_content": null,
            "align_items": null,
            "align_self": null,
            "border": null,
            "bottom": null,
            "display": null,
            "flex": null,
            "flex_flow": null,
            "grid_area": null,
            "grid_auto_columns": null,
            "grid_auto_flow": null,
            "grid_auto_rows": null,
            "grid_column": null,
            "grid_gap": null,
            "grid_row": null,
            "grid_template_areas": null,
            "grid_template_columns": null,
            "grid_template_rows": null,
            "height": null,
            "justify_content": null,
            "justify_items": null,
            "left": null,
            "margin": null,
            "max_height": null,
            "max_width": null,
            "min_height": null,
            "min_width": null,
            "object_fit": null,
            "object_position": null,
            "order": null,
            "overflow": null,
            "overflow_x": null,
            "overflow_y": null,
            "padding": null,
            "right": null,
            "top": null,
            "visibility": null,
            "width": null
          }
        },
        "eced9a0505c64696bfa33a8a243c257b": {
          "model_module": "@jupyter-widgets/controls",
          "model_name": "DescriptionStyleModel",
          "model_module_version": "1.5.0",
          "state": {
            "_model_module": "@jupyter-widgets/controls",
            "_model_module_version": "1.5.0",
            "_model_name": "DescriptionStyleModel",
            "_view_count": null,
            "_view_module": "@jupyter-widgets/base",
            "_view_module_version": "1.2.0",
            "_view_name": "StyleView",
            "description_width": ""
          }
        },
        "a5d309bb0ea946a1babebe2c55f47c37": {
          "model_module": "@jupyter-widgets/controls",
          "model_name": "HBoxModel",
          "model_module_version": "1.5.0",
          "state": {
            "_dom_classes": [],
            "_model_module": "@jupyter-widgets/controls",
            "_model_module_version": "1.5.0",
            "_model_name": "HBoxModel",
            "_view_count": null,
            "_view_module": "@jupyter-widgets/controls",
            "_view_module_version": "1.5.0",
            "_view_name": "HBoxView",
            "box_style": "",
            "children": [
              "IPY_MODEL_465e7b01668748d6a48cb2d2ddc10344",
              "IPY_MODEL_a804747fd6254215a5a9170ad252f578",
              "IPY_MODEL_0b52a007d56a4a0c9cd6939c3c8dfe0e"
            ],
            "layout": "IPY_MODEL_2df8145b30e94f8a8581c93e87be2311"
          }
        },
        "465e7b01668748d6a48cb2d2ddc10344": {
          "model_module": "@jupyter-widgets/controls",
          "model_name": "HTMLModel",
          "model_module_version": "1.5.0",
          "state": {
            "_dom_classes": [],
            "_model_module": "@jupyter-widgets/controls",
            "_model_module_version": "1.5.0",
            "_model_name": "HTMLModel",
            "_view_count": null,
            "_view_module": "@jupyter-widgets/controls",
            "_view_module_version": "1.5.0",
            "_view_name": "HTMLView",
            "description": "",
            "description_tooltip": null,
            "layout": "IPY_MODEL_9221d23ca6d0481e8a6e529605842afa",
            "placeholder": "​",
            "style": "IPY_MODEL_738d44945b8b4a8890e799c58f807c4a",
            "value": "model.safetensors: 100%"
          }
        },
        "a804747fd6254215a5a9170ad252f578": {
          "model_module": "@jupyter-widgets/controls",
          "model_name": "FloatProgressModel",
          "model_module_version": "1.5.0",
          "state": {
            "_dom_classes": [],
            "_model_module": "@jupyter-widgets/controls",
            "_model_module_version": "1.5.0",
            "_model_name": "FloatProgressModel",
            "_view_count": null,
            "_view_module": "@jupyter-widgets/controls",
            "_view_module_version": "1.5.0",
            "_view_name": "ProgressView",
            "bar_style": "success",
            "description": "",
            "description_tooltip": null,
            "layout": "IPY_MODEL_681557d4748f43e1ac1efca747df320c",
            "max": 211125672,
            "min": 0,
            "orientation": "horizontal",
            "style": "IPY_MODEL_10d44a4aae504c669db9640c34b0f583",
            "value": 211125672
          }
        },
        "0b52a007d56a4a0c9cd6939c3c8dfe0e": {
          "model_module": "@jupyter-widgets/controls",
          "model_name": "HTMLModel",
          "model_module_version": "1.5.0",
          "state": {
            "_dom_classes": [],
            "_model_module": "@jupyter-widgets/controls",
            "_model_module_version": "1.5.0",
            "_model_name": "HTMLModel",
            "_view_count": null,
            "_view_module": "@jupyter-widgets/controls",
            "_view_module_version": "1.5.0",
            "_view_name": "HTMLView",
            "description": "",
            "description_tooltip": null,
            "layout": "IPY_MODEL_09660320eb2d47e0ae0b161f38fc3874",
            "placeholder": "​",
            "style": "IPY_MODEL_1011f4ed01a04a26a2a5e890bace13e1",
            "value": " 211M/211M [00:05&lt;00:00, 22.9MB/s]"
          }
        },
        "2df8145b30e94f8a8581c93e87be2311": {
          "model_module": "@jupyter-widgets/base",
          "model_name": "LayoutModel",
          "model_module_version": "1.2.0",
          "state": {
            "_model_module": "@jupyter-widgets/base",
            "_model_module_version": "1.2.0",
            "_model_name": "LayoutModel",
            "_view_count": null,
            "_view_module": "@jupyter-widgets/base",
            "_view_module_version": "1.2.0",
            "_view_name": "LayoutView",
            "align_content": null,
            "align_items": null,
            "align_self": null,
            "border": null,
            "bottom": null,
            "display": null,
            "flex": null,
            "flex_flow": null,
            "grid_area": null,
            "grid_auto_columns": null,
            "grid_auto_flow": null,
            "grid_auto_rows": null,
            "grid_column": null,
            "grid_gap": null,
            "grid_row": null,
            "grid_template_areas": null,
            "grid_template_columns": null,
            "grid_template_rows": null,
            "height": null,
            "justify_content": null,
            "justify_items": null,
            "left": null,
            "margin": null,
            "max_height": null,
            "max_width": null,
            "min_height": null,
            "min_width": null,
            "object_fit": null,
            "object_position": null,
            "order": null,
            "overflow": null,
            "overflow_x": null,
            "overflow_y": null,
            "padding": null,
            "right": null,
            "top": null,
            "visibility": null,
            "width": null
          }
        },
        "9221d23ca6d0481e8a6e529605842afa": {
          "model_module": "@jupyter-widgets/base",
          "model_name": "LayoutModel",
          "model_module_version": "1.2.0",
          "state": {
            "_model_module": "@jupyter-widgets/base",
            "_model_module_version": "1.2.0",
            "_model_name": "LayoutModel",
            "_view_count": null,
            "_view_module": "@jupyter-widgets/base",
            "_view_module_version": "1.2.0",
            "_view_name": "LayoutView",
            "align_content": null,
            "align_items": null,
            "align_self": null,
            "border": null,
            "bottom": null,
            "display": null,
            "flex": null,
            "flex_flow": null,
            "grid_area": null,
            "grid_auto_columns": null,
            "grid_auto_flow": null,
            "grid_auto_rows": null,
            "grid_column": null,
            "grid_gap": null,
            "grid_row": null,
            "grid_template_areas": null,
            "grid_template_columns": null,
            "grid_template_rows": null,
            "height": null,
            "justify_content": null,
            "justify_items": null,
            "left": null,
            "margin": null,
            "max_height": null,
            "max_width": null,
            "min_height": null,
            "min_width": null,
            "object_fit": null,
            "object_position": null,
            "order": null,
            "overflow": null,
            "overflow_x": null,
            "overflow_y": null,
            "padding": null,
            "right": null,
            "top": null,
            "visibility": null,
            "width": null
          }
        },
        "738d44945b8b4a8890e799c58f807c4a": {
          "model_module": "@jupyter-widgets/controls",
          "model_name": "DescriptionStyleModel",
          "model_module_version": "1.5.0",
          "state": {
            "_model_module": "@jupyter-widgets/controls",
            "_model_module_version": "1.5.0",
            "_model_name": "DescriptionStyleModel",
            "_view_count": null,
            "_view_module": "@jupyter-widgets/base",
            "_view_module_version": "1.2.0",
            "_view_name": "StyleView",
            "description_width": ""
          }
        },
        "681557d4748f43e1ac1efca747df320c": {
          "model_module": "@jupyter-widgets/base",
          "model_name": "LayoutModel",
          "model_module_version": "1.2.0",
          "state": {
            "_model_module": "@jupyter-widgets/base",
            "_model_module_version": "1.2.0",
            "_model_name": "LayoutModel",
            "_view_count": null,
            "_view_module": "@jupyter-widgets/base",
            "_view_module_version": "1.2.0",
            "_view_name": "LayoutView",
            "align_content": null,
            "align_items": null,
            "align_self": null,
            "border": null,
            "bottom": null,
            "display": null,
            "flex": null,
            "flex_flow": null,
            "grid_area": null,
            "grid_auto_columns": null,
            "grid_auto_flow": null,
            "grid_auto_rows": null,
            "grid_column": null,
            "grid_gap": null,
            "grid_row": null,
            "grid_template_areas": null,
            "grid_template_columns": null,
            "grid_template_rows": null,
            "height": null,
            "justify_content": null,
            "justify_items": null,
            "left": null,
            "margin": null,
            "max_height": null,
            "max_width": null,
            "min_height": null,
            "min_width": null,
            "object_fit": null,
            "object_position": null,
            "order": null,
            "overflow": null,
            "overflow_x": null,
            "overflow_y": null,
            "padding": null,
            "right": null,
            "top": null,
            "visibility": null,
            "width": null
          }
        },
        "10d44a4aae504c669db9640c34b0f583": {
          "model_module": "@jupyter-widgets/controls",
          "model_name": "ProgressStyleModel",
          "model_module_version": "1.5.0",
          "state": {
            "_model_module": "@jupyter-widgets/controls",
            "_model_module_version": "1.5.0",
            "_model_name": "ProgressStyleModel",
            "_view_count": null,
            "_view_module": "@jupyter-widgets/base",
            "_view_module_version": "1.2.0",
            "_view_name": "StyleView",
            "bar_color": null,
            "description_width": ""
          }
        },
        "09660320eb2d47e0ae0b161f38fc3874": {
          "model_module": "@jupyter-widgets/base",
          "model_name": "LayoutModel",
          "model_module_version": "1.2.0",
          "state": {
            "_model_module": "@jupyter-widgets/base",
            "_model_module_version": "1.2.0",
            "_model_name": "LayoutModel",
            "_view_count": null,
            "_view_module": "@jupyter-widgets/base",
            "_view_module_version": "1.2.0",
            "_view_name": "LayoutView",
            "align_content": null,
            "align_items": null,
            "align_self": null,
            "border": null,
            "bottom": null,
            "display": null,
            "flex": null,
            "flex_flow": null,
            "grid_area": null,
            "grid_auto_columns": null,
            "grid_auto_flow": null,
            "grid_auto_rows": null,
            "grid_column": null,
            "grid_gap": null,
            "grid_row": null,
            "grid_template_areas": null,
            "grid_template_columns": null,
            "grid_template_rows": null,
            "height": null,
            "justify_content": null,
            "justify_items": null,
            "left": null,
            "margin": null,
            "max_height": null,
            "max_width": null,
            "min_height": null,
            "min_width": null,
            "object_fit": null,
            "object_position": null,
            "order": null,
            "overflow": null,
            "overflow_x": null,
            "overflow_y": null,
            "padding": null,
            "right": null,
            "top": null,
            "visibility": null,
            "width": null
          }
        },
        "1011f4ed01a04a26a2a5e890bace13e1": {
          "model_module": "@jupyter-widgets/controls",
          "model_name": "DescriptionStyleModel",
          "model_module_version": "1.5.0",
          "state": {
            "_model_module": "@jupyter-widgets/controls",
            "_model_module_version": "1.5.0",
            "_model_name": "DescriptionStyleModel",
            "_view_count": null,
            "_view_module": "@jupyter-widgets/base",
            "_view_module_version": "1.2.0",
            "_view_name": "StyleView",
            "description_width": ""
          }
        }
      }
    }
  },
  "cells": [
    {
      "cell_type": "markdown",
      "source": [
        "##Imports\n"
      ],
      "metadata": {
        "id": "qTBqh6VlS6cI"
      }
    },
    {
      "cell_type": "code",
      "execution_count": 1,
      "metadata": {
        "id": "jAURc5zOm7oN"
      },
      "outputs": [],
      "source": [
        "from datasets import load_dataset\n",
        "from transformers import AutoTokenizer, AutoModelForSequenceClassification\n",
        "from transformers import DistilBertForSequenceClassification, DistilBertConfig\n",
        "import torch\n",
        "import torch.nn as nn\n",
        "import torch.optim as optim\n",
        "from torch.utils.data import DataLoader\n",
        "from sklearn.metrics import accuracy_score, precision_recall_fscore_support"
      ]
    },
    {
      "cell_type": "markdown",
      "source": [
        "##Load Data"
      ],
      "metadata": {
        "id": "4rR6w2hbTLaF"
      }
    },
    {
      "cell_type": "code",
      "source": [
        "data = load_dataset(\"shawhin/phishing-site-classification\")"
      ],
      "metadata": {
        "colab": {
          "base_uri": "https://localhost:8080/"
        },
        "id": "jsrXoPRlTNW3",
        "outputId": "271908a9-2143-4af8-97dc-70cdd9777a44"
      },
      "execution_count": 2,
      "outputs": [
        {
          "output_type": "stream",
          "name": "stderr",
          "text": [
            "/usr/local/lib/python3.11/dist-packages/huggingface_hub/utils/_auth.py:94: UserWarning: \n",
            "The secret `HF_TOKEN` does not exist in your Colab secrets.\n",
            "To authenticate with the Hugging Face Hub, create a token in your settings tab (https://huggingface.co/settings/tokens), set it as secret in your Google Colab and restart your session.\n",
            "You will be able to reuse this secret in all of your notebooks.\n",
            "Please note that authentication is recommended but still optional to access public models or datasets.\n",
            "  warnings.warn(\n"
          ]
        }
      ]
    },
    {
      "cell_type": "code",
      "source": [
        "print(data)"
      ],
      "metadata": {
        "colab": {
          "base_uri": "https://localhost:8080/"
        },
        "id": "CY4IgSwPVpk_",
        "outputId": "4ccc6d09-55b9-4c73-a10a-5ec1a3132d54"
      },
      "execution_count": 3,
      "outputs": [
        {
          "output_type": "stream",
          "name": "stdout",
          "text": [
            "DatasetDict({\n",
            "    train: Dataset({\n",
            "        features: ['text', 'labels'],\n",
            "        num_rows: 2100\n",
            "    })\n",
            "    validation: Dataset({\n",
            "        features: ['text', 'labels'],\n",
            "        num_rows: 450\n",
            "    })\n",
            "    test: Dataset({\n",
            "        features: ['text', 'labels'],\n",
            "        num_rows: 450\n",
            "    })\n",
            "})\n"
          ]
        }
      ]
    },
    {
      "cell_type": "markdown",
      "source": [
        "##Load Teacher\n"
      ],
      "metadata": {
        "id": "Me5xsrQYags7"
      }
    },
    {
      "cell_type": "code",
      "source": [
        "# use Nvidia GPU\n",
        "device = torch.device('cuda')\n",
        "\n",
        "# Load teacher model and tokenizer\n",
        "model_path = \"shawhin/bert-phishing-classifier_teacher\"\n",
        "tokenizer = AutoTokenizer.from_pretrained(model_path)\n",
        "teacher_model = AutoModelForSequenceClassification.from_pretrained(model_path).to(device)"
      ],
      "metadata": {
        "id": "4iiJayroajrd"
      },
      "execution_count": 4,
      "outputs": []
    },
    {
      "cell_type": "markdown",
      "source": [
        "##Load Student"
      ],
      "metadata": {
        "id": "rbJWXnLThjBA"
      }
    },
    {
      "cell_type": "code",
      "source": [
        "# Load student model\n",
        "my_config = DistilBertConfig(n_heads=8, n_layers=4)\n",
        "student_model = DistilBertForSequenceClassification \\\n",
        "    .from_pretrained(\"distilbert-base-uncased\", config=my_config) \\\n",
        "    .to(device)"
      ],
      "metadata": {
        "colab": {
          "base_uri": "https://localhost:8080/"
        },
        "id": "c8B95whzhku4",
        "outputId": "86edc28b-bbf9-4707-fd54-153cbadffac7"
      },
      "execution_count": 5,
      "outputs": [
        {
          "output_type": "stream",
          "name": "stderr",
          "text": [
            "Some weights of DistilBertForSequenceClassification were not initialized from the model checkpoint at distilbert-base-uncased and are newly initialized: ['classifier.bias', 'classifier.weight', 'pre_classifier.bias', 'pre_classifier.weight']\n",
            "You should probably TRAIN this model on a down-stream task to be able to use it for predictions and inference.\n"
          ]
        }
      ]
    },
    {
      "cell_type": "markdown",
      "source": [
        "##Tokenize Text"
      ],
      "metadata": {
        "id": "yVRuLieviicZ"
      }
    },
    {
      "cell_type": "code",
      "source": [
        "# define text preprocessing\n",
        "def preprocess_function(examples):\n",
        "    return tokenizer(examples[\"text\"], padding='max_length', truncation=True)\n",
        "\n",
        "# tokenize all datasets\n",
        "tokenized_data = data.map(preprocess_function, batched=True)\n",
        "tokenized_data.set_format(type='torch', columns=['input_ids', 'attention_mask', 'labels'])"
      ],
      "metadata": {
        "colab": {
          "base_uri": "https://localhost:8080/",
          "height": 113,
          "referenced_widgets": [
            "85fffbe3907d442b9c9562b86599e26a",
            "9ae01e69df884acd87eccbfb00038213",
            "1dec94b764a14a52926ee546175530a5",
            "cf90a4a1c9a542a8bcd61c225a228e7f",
            "e59678882b824bcdabd85b95f74b77c0",
            "dfd1f957092d490d806bef0385bf3e2d",
            "969481c8ced24290bf227ee1f02881fb",
            "e97bc6c022104e98b451be9b8d7486f0",
            "d1fe9c44922f42c7abe4b8b1cef835be",
            "732f6bd135104dc4915c71278c8ae248",
            "408e70d564574451bcca058ac0458d00",
            "300047d9c7a14a479ca3bf835824214b",
            "7aa5fe4d467c4f11922b71c080e03e26",
            "1cda9ecd480542fda3d6e400a6d5d8d9",
            "a6a6e5ed35184c89be230db83830da46",
            "f6bb1c453a4b400989d4cca1d5761624",
            "70dd97aa33b34fe5bbd6ca181059d433",
            "3a567c42f2f145e89b3fe8776bfffb54",
            "3ee987000b7842de947e25245fb2f76e",
            "f29aefb457ac4110ad82726a10c16a33",
            "5853713a698f412d9718e870db6425e3",
            "ab3c807535d148b0a4b206c5fa8af8fc",
            "4d70bed9d8c243e8ab325c23e608c5f7",
            "ea23cbfb162c41b28e5c777f6c7a618b",
            "df6693cfe09e4997902e2b802edddd95",
            "a4d78095c4e24691991bb7e3d02b7dcc",
            "2cf5396243b04b099587d7959d8b78e9",
            "2889b09181904c0a9b16b89635e30385",
            "9a7d6259c2a0469594582d1b0e7c36bb",
            "95391abb0eca4fd6a424a1c1ec8ed3fa",
            "6a6dbc11e0fa493e9707c14f158b95a0",
            "d4a3aa983d014135822eb83dbc585a9c",
            "eced9a0505c64696bfa33a8a243c257b"
          ]
        },
        "id": "t_0QzItLij0H",
        "outputId": "3dd9bfb7-9a69-45dc-8276-61702f28e8ed"
      },
      "execution_count": 6,
      "outputs": [
        {
          "output_type": "display_data",
          "data": {
            "text/plain": [
              "Map:   0%|          | 0/2100 [00:00<?, ? examples/s]"
            ],
            "application/vnd.jupyter.widget-view+json": {
              "version_major": 2,
              "version_minor": 0,
              "model_id": "85fffbe3907d442b9c9562b86599e26a"
            }
          },
          "metadata": {}
        },
        {
          "output_type": "display_data",
          "data": {
            "text/plain": [
              "Map:   0%|          | 0/450 [00:00<?, ? examples/s]"
            ],
            "application/vnd.jupyter.widget-view+json": {
              "version_major": 2,
              "version_minor": 0,
              "model_id": "300047d9c7a14a479ca3bf835824214b"
            }
          },
          "metadata": {}
        },
        {
          "output_type": "display_data",
          "data": {
            "text/plain": [
              "Map:   0%|          | 0/450 [00:00<?, ? examples/s]"
            ],
            "application/vnd.jupyter.widget-view+json": {
              "version_major": 2,
              "version_minor": 0,
              "model_id": "4d70bed9d8c243e8ab325c23e608c5f7"
            }
          },
          "metadata": {}
        }
      ]
    },
    {
      "cell_type": "markdown",
      "source": [
        "## Evaluation Function"
      ],
      "metadata": {
        "id": "Pw6uBwwMjK-I"
      }
    },
    {
      "cell_type": "code",
      "source": [
        "# Function to evaluate model performance\n",
        "def evaluate_model(model, dataloader, device):\n",
        "    model.eval()  # Set model to evaluation mode\n",
        "    all_preds = []\n",
        "    all_labels = []\n",
        "\n",
        "    # Disable gradient calculations during evaluation\n",
        "    with torch.no_grad():\n",
        "        for batch in dataloader:\n",
        "            input_ids = batch['input_ids'].to(device)\n",
        "            attention_mask = batch['attention_mask'].to(device)\n",
        "            labels = batch['labels'].to(device)\n",
        "\n",
        "            # Forwrd pass to get logits\n",
        "            outputs = model(input_ids=input_ids, attention_mask=attention_mask)\n",
        "            logits = outputs.logits\n",
        "\n",
        "            # Get predictions\n",
        "            preds = torch.argmax(logits, dim=1).cpu().numpy()\n",
        "            all_preds.extend(preds)\n",
        "            all_labels.extend(labels.cpu().numpy())\n",
        "\n",
        "    # Calculate evaluation metrics\n",
        "    accuracy = accuracy_score(all_labels, all_preds)\n",
        "    precision, recall, f1, _ = precision_recall_fscore_support(all_labels, all_preds, average='binary')\n",
        "\n",
        "    return accuracy, precision, recall, f1"
      ],
      "metadata": {
        "id": "r_Ra0g04jotp"
      },
      "execution_count": 7,
      "outputs": []
    },
    {
      "cell_type": "markdown",
      "source": [
        "##Custom Loss Function"
      ],
      "metadata": {
        "id": "UAQwNMw-lm4j"
      }
    },
    {
      "cell_type": "code",
      "source": [
        "# Function to compute distillation and hard-label loss\n",
        "def distillation_loss(student_logits, teacher_logits, true_labels, temperature, alpha):\n",
        "    # Compute soft targets from teacher logits\n",
        "    soft_targets = nn.functional.softmax(teacher_logits / temperature, dim=1)\n",
        "    student_soft = nn.functional.log_softmax(student_logits / temperature, dim=1)\n",
        "\n",
        "    # KL Divergence loss for distillation\n",
        "    distill_loss = nn.functional.kl_div(student_soft,\n",
        "                                        soft_targets,\n",
        "                                        reduction='batchmean') * (temperature ** 2)\n",
        "\n",
        "    # Cross-entropy loss for hard labels\n",
        "    hard_loss = nn.CrossEntropyLoss()(student_logits, true_labels)\n",
        "\n",
        "    # Combine losses\n",
        "    loss = alpha * distill_loss + (1.0 - alpha) * hard_loss\n",
        "\n",
        "    return loss"
      ],
      "metadata": {
        "id": "GD40oLsQloUS"
      },
      "execution_count": 8,
      "outputs": []
    },
    {
      "cell_type": "markdown",
      "source": [
        "##Hyperparameters"
      ],
      "metadata": {
        "id": "TMjDqFsh-yLF"
      }
    },
    {
      "cell_type": "code",
      "source": [
        "# hyperparameters\n",
        "batch_size = 32\n",
        "lr = 1e-4 #5e-5\n",
        "num_epochs = 5\n",
        "temperature = 2.0\n",
        "alpha = 0.5\n",
        "\n",
        "# define optimizer\n",
        "optimizer = optim.Adam(student_model.parameters(), lr=lr)\n",
        "\n",
        "# create training data loader\n",
        "dataloader = DataLoader(tokenized_data['train'], batch_size=batch_size)\n",
        "# create testing data loader\n",
        "test_dataloader = DataLoader(tokenized_data['test'], batch_size=batch_size)"
      ],
      "metadata": {
        "id": "BcC1nbwp-1dS"
      },
      "execution_count": 9,
      "outputs": []
    },
    {
      "cell_type": "markdown",
      "source": [
        "##Train Model"
      ],
      "metadata": {
        "id": "iBA8KVWQJU4d"
      }
    },
    {
      "cell_type": "code",
      "source": [
        "# put student model in train mode\n",
        "student_model.train()\n",
        "\n",
        "# train model\n",
        "for epoch in range(num_epochs):\n",
        "    for batch in dataloader:\n",
        "        # Prepare inputs\n",
        "        input_ids = batch['input_ids'].to(device)\n",
        "        attention_mask = batch['attention_mask'].to(device)\n",
        "        labels = batch['labels'].to(device)\n",
        "\n",
        "        # Disable gradient calculation for teacher model\n",
        "        with torch.no_grad():\n",
        "            teacher_outputs = teacher_model(input_ids=input_ids,\n",
        "                                            attention_mask=attention_mask)\n",
        "            teacher_logits = teacher_outputs.logits\n",
        "\n",
        "        # Forward pass through the student model\n",
        "        student_outputs = student_model(input_ids=input_ids,\n",
        "                                        attention_mask=attention_mask)\n",
        "        student_logits = student_outputs.logits\n",
        "\n",
        "        # Compute the distillation loss\n",
        "        loss = distillation_loss(student_logits, teacher_logits, labels,\n",
        "                                 temperature, alpha)\n",
        "\n",
        "        # Backpropagation\n",
        "        optimizer.zero_grad()\n",
        "        loss.backward()\n",
        "        optimizer.step()\n",
        "\n",
        "    print(f\"Epoch {epoch + 1} completed with loss: {loss.item()}\")\n",
        "\n",
        "    # Evaluate the teacher model\n",
        "    teacher_accuracy, teacher_precision, teacher_recall, teacher_f1 = \\\n",
        "        evaluate_model(teacher_model, test_dataloader, device)\n",
        "\n",
        "    print(f\"Teacher (test) - Accuracy: {teacher_accuracy:.4f},\\n\"\n",
        "          f\"               Precision: {teacher_precision:.4f},\\n\"\n",
        "          f\"               Recall: {teacher_recall:.4f},\\n\"\n",
        "          f\"               F1 Score: {teacher_f1:.4f}\")\n",
        "\n",
        "    # Evaluate the student model\n",
        "    student_accuracy, student_precision, student_recall, student_f1 = \\\n",
        "        evaluate_model(student_model, test_dataloader, device)\n",
        "\n",
        "    print(f\"Student (test) - Accuracy: {student_accuracy:.4f},\\n\"\n",
        "          f\"               Precision: {student_precision:.4f},\\n\"\n",
        "          f\"               Recall: {student_recall:.4f},\\n\"\n",
        "          f\"               F1 Score: {student_f1:.4f}\")\n",
        "\n",
        "    print(\"\\n\")\n",
        "\n",
        "    # put student model back into train mode\n",
        "    student_model.train()"
      ],
      "metadata": {
        "colab": {
          "base_uri": "https://localhost:8080/"
        },
        "id": "mkJ46PEeJX1V",
        "outputId": "bee13d9b-01d9-4beb-852c-3ade674753c8"
      },
      "execution_count": 10,
      "outputs": [
        {
          "output_type": "stream",
          "name": "stdout",
          "text": [
            "Epoch 1 completed with loss: 0.15253493189811707\n",
            "Teacher (test) - Accuracy: 0.8644,\n",
            "               Precision: 0.8925,\n",
            "               Recall: 0.8341,\n",
            "               F1 Score: 0.8623\n",
            "Student (test) - Accuracy: 0.9000,\n",
            "               Precision: 0.8802,\n",
            "               Recall: 0.9301,\n",
            "               F1 Score: 0.9045\n",
            "\n",
            "\n",
            "Epoch 2 completed with loss: 0.08104458451271057\n",
            "Teacher (test) - Accuracy: 0.8644,\n",
            "               Precision: 0.8925,\n",
            "               Recall: 0.8341,\n",
            "               F1 Score: 0.8623\n",
            "Student (test) - Accuracy: 0.8978,\n",
            "               Precision: 0.9463,\n",
            "               Recall: 0.8472,\n",
            "               F1 Score: 0.8940\n",
            "\n",
            "\n",
            "Epoch 3 completed with loss: 0.05891669541597366\n",
            "Teacher (test) - Accuracy: 0.8644,\n",
            "               Precision: 0.8925,\n",
            "               Recall: 0.8341,\n",
            "               F1 Score: 0.8623\n",
            "Student (test) - Accuracy: 0.9022,\n",
            "               Precision: 0.8807,\n",
            "               Recall: 0.9345,\n",
            "               F1 Score: 0.9068\n",
            "\n",
            "\n",
            "Epoch 4 completed with loss: 0.064979188144207\n",
            "Teacher (test) - Accuracy: 0.8644,\n",
            "               Precision: 0.8925,\n",
            "               Recall: 0.8341,\n",
            "               F1 Score: 0.8623\n",
            "Student (test) - Accuracy: 0.9156,\n",
            "               Precision: 0.9170,\n",
            "               Recall: 0.9170,\n",
            "               F1 Score: 0.9170\n",
            "\n",
            "\n",
            "Epoch 5 completed with loss: 0.0972612053155899\n",
            "Teacher (test) - Accuracy: 0.8644,\n",
            "               Precision: 0.8925,\n",
            "               Recall: 0.8341,\n",
            "               F1 Score: 0.8623\n",
            "Student (test) - Accuracy: 0.9222,\n",
            "               Precision: 0.9533,\n",
            "               Recall: 0.8908,\n",
            "               F1 Score: 0.9210\n",
            "\n",
            "\n"
          ]
        }
      ]
    },
    {
      "cell_type": "markdown",
      "source": [
        "##Validation Set Evaluation"
      ],
      "metadata": {
        "id": "Ndm2mEjRL1II"
      }
    },
    {
      "cell_type": "code",
      "source": [
        "# create testing data loader\n",
        "validation_dataloader = DataLoader(tokenized_data['validation'], batch_size=8)\n",
        "\n",
        "# Evaluate the teacher model\n",
        "teacher_accuracy, teacher_precision, teacher_recall, teacher_f1 = \\\n",
        "    evaluate_model(teacher_model, validation_dataloader, device)\n",
        "print(f\"Teacher (validation) - Accuracy: {teacher_accuracy:.4f},\\n\"\n",
        "      f\"                     Precision: {teacher_precision:.4f},\\n\"\n",
        "      f\"                     Recall: {teacher_recall:.4f},\\n\"\n",
        "      f\"                     F1 Score: {teacher_f1:.4f}\")\n",
        "\n",
        "# Evaluate the student model\n",
        "student_accuracy, student_precision, student_recall, student_f1 = \\\n",
        "    evaluate_model(student_model, validation_dataloader, device)\n",
        "print(f\"Student (validation) - Accuracy: {student_accuracy:.4f},\\n\"\n",
        "      f\"                     Precision: {student_precision:.4f},\\n\"\n",
        "      f\"                     Recall: {student_recall:.4f},\\n\"\n",
        "      f\"                     F1 Score: {student_f1:.4f}\")"
      ],
      "metadata": {
        "colab": {
          "base_uri": "https://localhost:8080/"
        },
        "id": "6O7EuvZwL9so",
        "outputId": "3c3c688a-db72-41a0-8059-792df1e28fea"
      },
      "execution_count": 12,
      "outputs": [
        {
          "output_type": "stream",
          "name": "stdout",
          "text": [
            "Teacher (validation) - Accuracy: 0.8933,\n",
            "                     Precision: 0.9155,\n",
            "                     Recall: 0.8667,\n",
            "                     F1 Score: 0.8904\n",
            "Student (validation) - Accuracy: 0.9311,\n",
            "                     Precision: 0.9755,\n",
            "                     Recall: 0.8844,\n",
            "                     F1 Score: 0.9277\n"
          ]
        }
      ]
    },
    {
      "cell_type": "markdown",
      "source": [
        "##Load in as 4-bit"
      ],
      "metadata": {
        "id": "bV2DIaLMMDxk"
      }
    },
    {
      "cell_type": "code",
      "source": [
        "from transformers import BitsAndBytesConfig\n",
        "\n",
        "# load model in model as 4-bit\n",
        "quantization_config = BitsAndBytesConfig(load_in_4bit=True,\n",
        "                                          bnb_4bit_compute_dtype=torch.bfloat16)\n",
        "\n",
        "nf4_config = BitsAndBytesConfig(\n",
        "    load_in_4bit=True,\n",
        "    bnb_4bit_quant_type=\"nf4\",\n",
        "    bnb_4bit_compute_dtype=torch.bfloat16,\n",
        "    bnb_4bit_use_double_quant=True\n",
        ")\n",
        "\n",
        "\n",
        "model_id = \"shawhin/bert-phishing-classifier_student\"\n",
        "model_nf4 = AutoModelForSequenceClassification.from_pretrained(model_id,\n",
        "                                                               device_map=device,\n",
        "                                                               quantization_config=nf4_config)"
      ],
      "metadata": {
        "colab": {
          "base_uri": "https://localhost:8080/",
          "height": 49,
          "referenced_widgets": [
            "a5d309bb0ea946a1babebe2c55f47c37",
            "465e7b01668748d6a48cb2d2ddc10344",
            "a804747fd6254215a5a9170ad252f578",
            "0b52a007d56a4a0c9cd6939c3c8dfe0e",
            "2df8145b30e94f8a8581c93e87be2311",
            "9221d23ca6d0481e8a6e529605842afa",
            "738d44945b8b4a8890e799c58f807c4a",
            "681557d4748f43e1ac1efca747df320c",
            "10d44a4aae504c669db9640c34b0f583",
            "09660320eb2d47e0ae0b161f38fc3874",
            "1011f4ed01a04a26a2a5e890bace13e1"
          ]
        },
        "id": "-1_QwZfNck33",
        "outputId": "7bfb981c-aeaa-4d24-e63b-9bf8436c997b"
      },
      "execution_count": 13,
      "outputs": [
        {
          "output_type": "display_data",
          "data": {
            "text/plain": [
              "model.safetensors:   0%|          | 0.00/211M [00:00<?, ?B/s]"
            ],
            "application/vnd.jupyter.widget-view+json": {
              "version_major": 2,
              "version_minor": 0,
              "model_id": "a5d309bb0ea946a1babebe2c55f47c37"
            }
          },
          "metadata": {}
        }
      ]
    },
    {
      "cell_type": "markdown",
      "source": [
        "##Evaluate Quantized Model"
      ],
      "metadata": {
        "id": "RPucR40MmAsm"
      }
    },
    {
      "cell_type": "code",
      "source": [
        "# Evaluate the student model\n",
        "quantized_accuracy, quantized_precision, quantized_recall, quantized_f1 = \\\n",
        "    evaluate_model(model_nf4, validation_dataloader, device)\n",
        "\n",
        "print(\"Post-quantization Performance\")\n",
        "print(f\"Accuracy: {quantized_accuracy:.4f},\\n\"\n",
        "      f\"Precision: {quantized_precision:.4f},\\n\"\n",
        "      f\"Recall: {quantized_recall:.4f},\\n\"\n",
        "      f\"F1 Score: {quantized_f1:.4f}\")"
      ],
      "metadata": {
        "colab": {
          "base_uri": "https://localhost:8080/"
        },
        "id": "6o8cTe6zmcoc",
        "outputId": "c559696d-7316-447f-8945-8d59a67982d3"
      },
      "execution_count": 14,
      "outputs": [
        {
          "output_type": "stream",
          "name": "stdout",
          "text": [
            "Post-quantization Performance\n",
            "Accuracy: 0.9356,\n",
            "Precision: 0.9757,\n",
            "Recall: 0.8933,\n",
            "F1 Score: 0.9327\n"
          ]
        }
      ]
    }
  ]
}